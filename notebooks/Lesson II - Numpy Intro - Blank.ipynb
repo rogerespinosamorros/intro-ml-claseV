{
 "cells": [
  {
   "cell_type": "markdown",
   "metadata": {},
   "source": [
    "# Intro to Numpy\n",
    "\n",
    "![](https://www.freecodecamp.org/espanol/news/content/images/2021/04/numpy-1-1-.png)\n",
    "\n",
    "### ¿Qué es numpy?\n",
    "\n",
    "Numpy es una biblioteca en Python que **permite realizar operaciones matemáticas avanzadas de forma eficiente** con estructuras de datos de alto rendimiento, principalmente **arrays**.\n",
    "\n",
    "### ¿Por qué usar numpy?\n",
    "\n",
    "Usar numpy sobre las listas de Python tiene una serie de ventajas como la **rapidez y la eficiencia** en operaciones matemáticas y de matriz. Además, numpy es una biblioteca muy popular y ampliamente utilizada en el campo de la **ciencia de datos** y el aprendizaje automático. **Es la base** de muchas otras bibliotecas de Python como **pandas, scikit-learn**...\n",
    "\n",
    "### ¿Cómo instalar numpy?\n",
    "\n",
    "Para instalar numpy, simplemente ejecuta el siguiente comando en tu terminal:\n",
    "\n",
    "```bash\n",
    "pip install numpy\n",
    "```"
   ]
  },
  {
   "cell_type": "markdown",
   "metadata": {},
   "source": [
    "## Conceptos Básicos de Numpy\n",
    "\n",
    "A continuación, vamos a ver algunos conceptos básicos de numpy, primero debemos importar la librería:"
   ]
  },
  {
   "cell_type": "code",
   "execution_count": 2,
   "metadata": {},
   "outputs": [],
   "source": [
    "# import numpy\n",
    "\n",
    "import numpy as np\n"
   ]
  },
  {
   "cell_type": "markdown",
   "metadata": {},
   "source": [
    "### Crear un array\n",
    "\n",
    "Numpy gira en torno a un objeto llamado **`array`** que es una **matriz multidimensional de elementos del mismo tipo**. \n",
    "\n",
    "💡 Para crear un array, puedes usar la función **`np.array()`** y pasar una lista de elementos como argumento."
   ]
  },
  {
   "cell_type": "code",
   "execution_count": 3,
   "metadata": {},
   "outputs": [
    {
     "data": {
      "text/plain": [
       "array([1, 2, 3])"
      ]
     },
     "execution_count": 3,
     "metadata": {},
     "output_type": "execute_result"
    }
   ],
   "source": [
    "my_list = [1, 2, 3]\n",
    "\n",
    "np.array(my_list)"
   ]
  },
  {
   "cell_type": "markdown",
   "metadata": {},
   "source": [
    "💡 También podemos crear arrays de ceros (`np.zeros()`), de unos (`np.ones()`), y con valores constantes específicos utilizando `np.full()`. "
   ]
  },
  {
   "cell_type": "code",
   "execution_count": 4,
   "metadata": {},
   "outputs": [
    {
     "data": {
      "text/plain": [
       "array([0., 0., 0., 0., 0.])"
      ]
     },
     "execution_count": 4,
     "metadata": {},
     "output_type": "execute_result"
    }
   ],
   "source": [
    "np.zeros(5)"
   ]
  },
  {
   "cell_type": "markdown",
   "metadata": {},
   "source": [
    "💡 Podemos crear secuencias de números consecutivos usando `np.arange()` o `np.linspace()`. También podemos crear arrays de números aleatorios usando `np.random.rand()`."
   ]
  },
  {
   "cell_type": "code",
   "execution_count": 8,
   "metadata": {},
   "outputs": [
    {
     "data": {
      "text/plain": [
       "array([0, 1, 2, 3, 4])"
      ]
     },
     "execution_count": 8,
     "metadata": {},
     "output_type": "execute_result"
    }
   ],
   "source": [
    "np.arange(5)"
   ]
  },
  {
   "cell_type": "code",
   "execution_count": 13,
   "metadata": {},
   "outputs": [
    {
     "data": {
      "text/plain": [
       "array([0.  , 0.25, 0.5 , 0.75, 1.  ])"
      ]
     },
     "execution_count": 13,
     "metadata": {},
     "output_type": "execute_result"
    }
   ],
   "source": [
    "np.linspace(0, 1, 5)"
   ]
  },
  {
   "cell_type": "code",
   "execution_count": 14,
   "metadata": {},
   "outputs": [
    {
     "data": {
      "text/plain": [
       "array([0.77958988, 0.25934402, 0.86506662, 0.37997531, 0.60155172])"
      ]
     },
     "execution_count": 14,
     "metadata": {},
     "output_type": "execute_result"
    }
   ],
   "source": [
    "np.random.rand(5)"
   ]
  },
  {
   "cell_type": "code",
   "execution_count": 12,
   "metadata": {},
   "outputs": [
    {
     "data": {
      "text/plain": [
       "array([3. , 3.1, 3.2, 3.3, 3.4, 3.5, 3.6, 3.7, 3.8, 3.9, 4. , 4.1, 4.2,\n",
       "       4.3, 4.4, 4.5, 4.6, 4.7, 4.8, 4.9])"
      ]
     },
     "execution_count": 12,
     "metadata": {},
     "output_type": "execute_result"
    }
   ],
   "source": [
    "np.arange(3, 5, 0.1)"
   ]
  },
  {
   "cell_type": "code",
   "execution_count": 15,
   "metadata": {},
   "outputs": [
    {
     "ename": "NameError",
     "evalue": "name 'my_array' is not defined",
     "output_type": "error",
     "traceback": [
      "\u001b[31m---------------------------------------------------------------------------\u001b[39m",
      "\u001b[31mNameError\u001b[39m                                 Traceback (most recent call last)",
      "\u001b[36mCell\u001b[39m\u001b[36m \u001b[39m\u001b[32mIn[15]\u001b[39m\u001b[32m, line 1\u001b[39m\n\u001b[32m----> \u001b[39m\u001b[32m1\u001b[39m \u001b[43mmy_array\u001b[49m.astype(\u001b[38;5;28mfloat\u001b[39m)\n",
      "\u001b[31mNameError\u001b[39m: name 'my_array' is not defined"
     ]
    }
   ],
   "source": [
    "my_array.astype(float)"
   ]
  },
  {
   "cell_type": "markdown",
   "metadata": {},
   "source": [
    "### El tipo de datos de un array\n",
    "\n",
    "Recuerda que los arrays de numpy tienen un **tipo de datos** asociado. Puedes especificar el tipo de datos al crear un array o numpy intentará inferirlo automáticamente. Es muy importante tener en cuenta el tipo de datos de un array, ya que puede afectar a la precisión de los cálculos y al uso de la memoria. Los tipos principales son:\n",
    "\n",
    "- **`int`**: Número entero\n",
    "  - **`int8`**: Entero de 8 bits: -128 a 127\n",
    "  - **`int16`**: Entero de 16 bits: -2^15 a 2^15-1\n",
    "  - **`int32`**: Entero de 32 bits: -2^31 a 2^31-1\n",
    "  - **`int64`**: Entero de 64 bits: -2^63 a 2^63-1\n",
    "- **`float`**: Número con decimales (coma flotante)\n",
    "  - **`float16`**: Número de coma flotante de 16 bits\n",
    "  - **`float32`**: Número de coma flotante de 32 bits\n",
    "  - **`float64`**: Número de coma flotante de 64 bits \n",
    "- **`bool`**: Booleano\n",
    "- **`string`**: Cadena de texto\n",
    "- **`object`**: Objeto de Python\n",
    "\n",
    "Dentro de los `int` y `float`, también puedes especificar si quieres que sean **signed** o **unsigned**. Por ejemplo, `uint8` es un entero sin signo de 8 bits. Es decir, alberga valores de 0 a 255 (2^8-1). Un caso clásico de un array de tipo `uint8` es una imagen en escala de grises, donde cada píxel tiene un valor entre 0 y 255. El 0 representa el color negro y el 255 el blanco.\n",
    "\n",
    "💡 En numpy podemos ver el tipo de un array usando el método `.dtype`"
   ]
  },
  {
   "cell_type": "code",
   "execution_count": 17,
   "metadata": {},
   "outputs": [
    {
     "ename": "AttributeError",
     "evalue": "'set' object has no attribute 'dtype'",
     "output_type": "error",
     "traceback": [
      "\u001b[31m---------------------------------------------------------------------------\u001b[39m",
      "\u001b[31mAttributeError\u001b[39m                            Traceback (most recent call last)",
      "\u001b[36mCell\u001b[39m\u001b[36m \u001b[39m\u001b[32mIn[17]\u001b[39m\u001b[32m, line 2\u001b[39m\n\u001b[32m      1\u001b[39m my_array = ({\u001b[32m1\u001b[39m, \u001b[32m2\u001b[39m, \u001b[32m3\u001b[39m})\n\u001b[32m----> \u001b[39m\u001b[32m2\u001b[39m \u001b[43mmy_array\u001b[49m\u001b[43m.\u001b[49m\u001b[43mdtype\u001b[49m\n",
      "\u001b[31mAttributeError\u001b[39m: 'set' object has no attribute 'dtype'"
     ]
    }
   ],
   "source": [
    "my_array = ({1, 2, 3})\n",
    "my_array.dtype"
   ]
  },
  {
   "cell_type": "markdown",
   "metadata": {},
   "source": [
    "💡 También podemos cambiar el tipo de un array usando el método `.astype()`"
   ]
  },
  {
   "cell_type": "code",
   "execution_count": 22,
   "metadata": {},
   "outputs": [
    {
     "data": {
      "text/plain": [
       "(2, 3)"
      ]
     },
     "execution_count": 22,
     "metadata": {},
     "output_type": "execute_result"
    }
   ],
   "source": [
    "np.array([my_list, my_list]).shape"
   ]
  },
  {
   "cell_type": "markdown",
   "metadata": {},
   "source": [
    "### La Forma de un Array (a.k.a. Shape)\n",
    "\n",
    "La \"forma\" de un array en numpy es un concepto fundamental que **describe las dimensiones del array**. Se refiere al **número de elementos en cada dimensión** y se representa por una tupla de enteros. Cada número en esta tupla indica el tamaño del array en esa dimensión. Por ejemplo, un array de una dimensión (un vector) con 4 elementos tendría una forma de (4,), mientras que un array de dos dimensiones (una matriz) con 3 filas y 5 columnas tendría una forma de (3, 5).\n",
    "\n",
    "![](https://pbs.twimg.com/media/FD1qSBqVgAg7078.jpg:large)\n",
    "\n",
    "* Un **vector**, que es un array de una sola dimensión, podría tener una forma (n,) donde n es el número de elementos en el vector.\n",
    "* Una **matriz**, que es un array de dos dimensiones, podría tener una forma (m, n) donde m es el número de filas y n el número de columnas.\n",
    "* Un **tensor**, que es un array de tres dimensiones, a menudo utilizado en ciencias de datos para representar conjuntos de imágenes o datos espaciotemporales, podría tener una forma (p, m, n) donde p representa un conjunto de matrices de dimensiones m x n.\n",
    "\n",
    "💡 La propiedad `.shape` de un objeto numpy array se puede utilizar para obtener la forma actual del array:"
   ]
  },
  {
   "cell_type": "code",
   "execution_count": null,
   "metadata": {},
   "outputs": [],
   "source": []
  },
  {
   "cell_type": "markdown",
   "metadata": {},
   "source": [
    "💡 Es posible modificar la forma de un array usando el método `.reshape()`."
   ]
  },
  {
   "cell_type": "code",
   "execution_count": 24,
   "metadata": {},
   "outputs": [
    {
     "data": {
      "text/plain": [
       "array([[0, 1, 2],\n",
       "       [3, 4, 5]])"
      ]
     },
     "execution_count": 24,
     "metadata": {},
     "output_type": "execute_result"
    }
   ],
   "source": [
    "my_matrix = np.arange(6).reshape(2, 3)\n",
    "my_matrix"
   ]
  },
  {
   "cell_type": "markdown",
   "metadata": {},
   "source": [
    "💡 También podemos \"aplanar\" un array (convertirlo a un vector) usando `.flatten()`"
   ]
  },
  {
   "cell_type": "code",
   "execution_count": 25,
   "metadata": {},
   "outputs": [
    {
     "data": {
      "text/plain": [
       "array([0, 1, 2, 3, 4, 5])"
      ]
     },
     "execution_count": 25,
     "metadata": {},
     "output_type": "execute_result"
    }
   ],
   "source": [
    "my_matrix.flatten()"
   ]
  },
  {
   "cell_type": "markdown",
   "metadata": {},
   "source": [
    "## Operaciones Básicas\n",
    "\n",
    "Podemos **sumar, restar, multiplicar y dividir** arrays de numpy de la misma forma que lo haríamos con números. ⚠️ Es importante tener en cuenta que estas operaciones se realizan **elemento a elemento**, por lo que **ambos arrays deben tener la misma forma.**"
   ]
  },
  {
   "cell_type": "code",
   "execution_count": 30,
   "metadata": {},
   "outputs": [
    {
     "data": {
      "text/plain": [
       "{1, 2, 3}"
      ]
     },
     "execution_count": 30,
     "metadata": {},
     "output_type": "execute_result"
    }
   ],
   "source": [
    "my_array "
   ]
  },
  {
   "cell_type": "markdown",
   "metadata": {},
   "source": [
    "💡 También podemos aplicar funciones matemáticas a un array de numpy, como **`np.sin()`, `np.cos()`, `np.exp()`, `np.log()`**..."
   ]
  },
  {
   "cell_type": "code",
   "execution_count": 32,
   "metadata": {},
   "outputs": [
    {
     "data": {
      "text/plain": [
       "{1, 2, 3}"
      ]
     },
     "execution_count": 32,
     "metadata": {},
     "output_type": "execute_result"
    }
   ],
   "source": [
    "my_array"
   ]
  },
  {
   "cell_type": "markdown",
   "metadata": {},
   "source": [
    "## Agregación y Estadísticas\n",
    "\n",
    "Numpy proporciona una serie de funciones para realizar **operaciones de agregación y estadísticas** en arrays. Algunas de las más comunes son:\n",
    "\n",
    "- **`np.sum()`**: Suma de todos los elementos del array\n",
    "- **`np.mean()`**: Media de los elementos del array\n",
    "- **`np.median()`**: Mediana de los elementos del array\n",
    "- **`np.min()`**: Valor mínimo del array\n",
    "- **`np.max()`**: Valor máximo del array\n",
    "- **`np.argmin()`**: Índice del valor mínimo del array\n",
    "- **`np.argmax()`**: Índice del valor máximo del array"
   ]
  },
  {
   "cell_type": "code",
   "execution_count": 38,
   "metadata": {},
   "outputs": [
    {
     "data": {
      "text/plain": [
       "np.int64(0)"
      ]
     },
     "execution_count": 38,
     "metadata": {},
     "output_type": "execute_result"
    }
   ],
   "source": [
    "my_array = np.arange(6)\n",
    "np.argmin(my_array)"
   ]
  },
  {
   "cell_type": "markdown",
   "metadata": {},
   "source": [
    "💡 También podemos calcular la posición del elemento máximo usando **`np.argmax()`** o **`np.argmin()`**"
   ]
  },
  {
   "cell_type": "code",
   "execution_count": 39,
   "metadata": {},
   "outputs": [
    {
     "data": {
      "text/plain": [
       "np.int64(5)"
      ]
     },
     "execution_count": 39,
     "metadata": {},
     "output_type": "execute_result"
    }
   ],
   "source": [
    "np.argmax(my_array)"
   ]
  },
  {
   "cell_type": "markdown",
   "metadata": {},
   "source": [
    "## Array Slicing\n",
    "\n",
    "Al igual que en las listas de Python, podemos **acceder a elementos individuales o a subconjuntos de elementos** en un array de numpy utilizando la técnica de **slicing**. Para ello, podemos utilizar la notación de corchetes y dos puntos `:`."
   ]
  },
  {
   "cell_type": "code",
   "execution_count": 43,
   "metadata": {},
   "outputs": [
    {
     "data": {
      "text/plain": [
       "array([3, 4, 5])"
      ]
     },
     "execution_count": 43,
     "metadata": {},
     "output_type": "execute_result"
    }
   ],
   "source": [
    "my_array[3:]"
   ]
  },
  {
   "cell_type": "markdown",
   "metadata": {},
   "source": [
    "## Array Masking\n",
    "\n",
    "El **enmascaramiento de arrays** es una técnica que nos permite **filtrar** los elementos de un array basándonos en una **condición lógica**. Por ejemplo, podemos seleccionar todos los elementos de un array que sean mayores que un cierto valor, o que cumplan una determinada condición. Esto será especialmente útil cuando trabajemos con tablas de datos y queramos filtrar filas o columnas basándonos en ciertas condiciones."
   ]
  },
  {
   "cell_type": "code",
   "execution_count": 52,
   "metadata": {},
   "outputs": [
    {
     "data": {
      "text/plain": [
       "array([1, 3])"
      ]
     },
     "execution_count": 52,
     "metadata": {},
     "output_type": "execute_result"
    }
   ],
   "source": [
    "my_vector = np.array([0, 1, 2, 3])\n",
    "my_mask = np.array([False, True, False, True])\n",
    "my_vector[my_mask]"
   ]
  },
  {
   "cell_type": "code",
   "execution_count": 55,
   "metadata": {},
   "outputs": [
    {
     "data": {
      "text/plain": [
       "np.float64(35.0)"
      ]
     },
     "execution_count": 55,
     "metadata": {},
     "output_type": "execute_result"
    }
   ],
   "source": [
    "ages = np.array([10, 20, 30, 40])\n",
    "ages_over_18_mask = ages > 25\n",
    "ages_over_18 = ages[ages_over_18_mask]\n",
    "np.mean(ages_over_18)"
   ]
  },
  {
   "cell_type": "markdown",
   "metadata": {},
   "source": [
    "## 💪 Ejercicios\n",
    "\n",
    "A continuación, te propongo algunos ejercicios para que practiques tus habilidades con numpy"
   ]
  },
  {
   "cell_type": "markdown",
   "metadata": {},
   "source": [
    "### Ejercicio I: The Alien Invasion\n",
    "\n",
    "El ejercicio original puede encontrarse [aquí](https://matesanz.github.io/python-machine-learning-course/%F0%9F%A7%AA-Exercises/the-alien-invasion/)."
   ]
  },
  {
   "cell_type": "code",
   "execution_count": 10,
   "metadata": {},
   "outputs": [],
   "source": [
    "import numpy as np\n",
    "\n",
    "\n",
    "fleet_data = np.array([\n",
    "    [120, 40, 25, 2.5, 10],\n",
    "    [85, 60, 30, 5.0, 5],\n",
    "    [100, 50, 35, 4.5, 7],\n",
    "    [120, 40, 25, 2.5, 9],\n",
    "    [150, 50, 30, 3.0, 10],\n",
    "], dtype=np.float32)"
   ]
  },
  {
   "cell_type": "code",
   "execution_count": 64,
   "metadata": {},
   "outputs": [
    {
     "data": {
      "text/plain": [
       "array([10.,  5.,  7.,  9., 10.], dtype=float32)"
      ]
     },
     "execution_count": 64,
     "metadata": {},
     "output_type": "execute_result"
    }
   ],
   "source": [
    "speeds = fleet_data[:, 3]\n",
    "speeds\n",
    "\n",
    "power = fleet_data[:, 4]\n",
    "power"
   ]
  },
  {
   "cell_type": "code",
   "execution_count": 68,
   "metadata": {},
   "outputs": [
    {
     "data": {
      "text/plain": [
       "array([120.,  85., 100., 120., 150.], dtype=float32)"
      ]
     },
     "execution_count": 68,
     "metadata": {},
     "output_type": "execute_result"
    }
   ],
   "source": [
    "fleet_height = fleet_data[:, 0]\n",
    "fleet_height"
   ]
  },
  {
   "cell_type": "markdown",
   "metadata": {},
   "source": [
    "### Ejercicio II: manipulando imágenes\n",
    "\n",
    "Dada una imagen a color representada por un array de numpy de forma `(m, n, c)` donde `m` es el número de filas y `n` el número de columnas y `p` las bandas de color (RGB), escribe una función que reciba la imagen y devuelva una nueva imagen que contenga solo la mitad derecha de la imagen original. para convertir la imagen en un array de numpy, puedes usar la función `PIL.Image.open()` del módulo `PIL` y luego convertir la imagen en un array de numpy usando `np.asarray()`."
   ]
  },
  {
   "cell_type": "code",
   "execution_count": 69,
   "metadata": {},
   "outputs": [
    {
     "ename": "ModuleNotFoundError",
     "evalue": "No module named 'PIL'",
     "output_type": "error",
     "traceback": [
      "\u001b[31m---------------------------------------------------------------------------\u001b[39m",
      "\u001b[31mModuleNotFoundError\u001b[39m                       Traceback (most recent call last)",
      "\u001b[36mCell\u001b[39m\u001b[36m \u001b[39m\u001b[32mIn[69]\u001b[39m\u001b[32m, line 1\u001b[39m\n\u001b[32m----> \u001b[39m\u001b[32m1\u001b[39m \u001b[38;5;28;01mfrom\u001b[39;00m\u001b[38;5;250m \u001b[39m\u001b[34;01mPIL\u001b[39;00m\u001b[38;5;250m \u001b[39m\u001b[38;5;28;01mimport\u001b[39;00m Image\n\u001b[32m      2\u001b[39m \u001b[38;5;28;01mimport\u001b[39;00m\u001b[38;5;250m \u001b[39m\u001b[34;01mrequests\u001b[39;00m\n\u001b[32m      4\u001b[39m IMAGE_URL = \u001b[33m\"\u001b[39m\u001b[33mhttps://estaticos-cdn.prensaiberica.es/clip/6040f332-9afa-471d-b076-c060ae37450a_alta-libre-aspect-ratio_default_0.jpg\u001b[39m\u001b[33m\"\u001b[39m\n",
      "\u001b[31mModuleNotFoundError\u001b[39m: No module named 'PIL'"
     ]
    }
   ],
   "source": [
    "from PIL import Image\n",
    "import requests\n",
    "\n",
    "IMAGE_URL = \"https://estaticos-cdn.prensaiberica.es/clip/6040f332-9afa-471d-b076-c060ae37450a_alta-libre-aspect-ratio_default_0.jpg\"\n",
    "\n",
    "response = requests.get(IMAGE_URL, stream=True)\n",
    "image_pil = Image.open(response.raw)\n",
    "image_array = np.array(image_pil)\n",
    "Image.fromarray(image_array)  # show the image"
   ]
  },
  {
   "cell_type": "code",
   "execution_count": null,
   "metadata": {},
   "outputs": [],
   "source": []
  },
  {
   "cell_type": "markdown",
   "metadata": {},
   "source": [
    "### Ejercicio III: Crea un Tres en Raya\n",
    "\n",
    "To try out your new skills, try to create a TicTacToe game using Numpy arrays. Fill the functions below to create a game that can be played by two players."
   ]
  },
  {
   "cell_type": "code",
   "execution_count": null,
   "metadata": {},
   "outputs": [],
   "source": []
  }
 ],
 "metadata": {
  "kernelspec": {
   "display_name": "venv",
   "language": "python",
   "name": "python3"
  },
  "language_info": {
   "codemirror_mode": {
    "name": "ipython",
    "version": 3
   },
   "file_extension": ".py",
   "mimetype": "text/x-python",
   "name": "python",
   "nbconvert_exporter": "python",
   "pygments_lexer": "ipython3",
   "version": "3.11.11"
  }
 },
 "nbformat": 4,
 "nbformat_minor": 2
}
